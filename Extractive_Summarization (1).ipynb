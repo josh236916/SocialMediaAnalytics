{
  "nbformat": 4,
  "nbformat_minor": 0,
  "metadata": {
    "colab": {
      "provenance": []
    },
    "kernelspec": {
      "name": "python3",
      "display_name": "Python 3"
    },
    "language_info": {
      "name": "python"
    }
  },
  "cells": [
    {
      "cell_type": "code",
      "execution_count": 1,
      "metadata": {
        "colab": {
          "base_uri": "https://localhost:8080/"
        },
        "id": "CZokwh3Jg-Cz",
        "outputId": "8646edde-0c08-47c9-a195-3d965b01d7e1"
      },
      "outputs": [
        {
          "output_type": "stream",
          "name": "stderr",
          "text": [
            "[nltk_data] Downloading package stopwords to /root/nltk_data...\n",
            "[nltk_data]   Unzipping corpora/stopwords.zip.\n",
            "[nltk_data] Downloading package punkt to /root/nltk_data...\n",
            "[nltk_data]   Unzipping tokenizers/punkt.zip.\n"
          ]
        },
        {
          "output_type": "execute_result",
          "data": {
            "text/plain": [
              "True"
            ]
          },
          "metadata": {},
          "execution_count": 1
        }
      ],
      "source": [
        "import nltk\n",
        "import bs4\n",
        "from nltk.corpus import stopwords\n",
        "from nltk.tokenize import word_tokenize, sent_tokenize\n",
        "import requests\n",
        "from bs4 import BeautifulSoup\n",
        "nltk.download('stopwords')\n",
        "nltk.download('punkt')\n"
      ]
    },
    {
      "cell_type": "code",
      "source": [
        "Url =\"https://www.theguardian.com/business/2023/apr/14/shoppers-in-great-britain-switch-to-frozen-food-amid-cost-of-living-crisis\""
      ],
      "metadata": {
        "id": "vnfv3u5kujLC"
      },
      "execution_count": 2,
      "outputs": []
    },
    {
      "cell_type": "code",
      "source": [
        "\n",
        "\n",
        "def GetText(url):\n",
        "    site = requests.get(url).text #Request html object from url\n",
        "    soup = BeautifulSoup(site, \"html.parser\") #Create BeautifulSoup object\n",
        "    text =\"\" \n",
        "    for j in soup.find_all(\"p\"): #Find all paragraph tags \n",
        "        text += j.get_text() \n",
        "    return text\n",
        "\n",
        "Text = GetText(Url)\n",
        "\n",
        "\n",
        "\n",
        "\n",
        "\n",
        "\n"
      ],
      "metadata": {
        "id": "dacCOSRzkzAk"
      },
      "execution_count": 3,
      "outputs": []
    },
    {
      "cell_type": "code",
      "source": [
        "\n",
        "def GenerateWordFrequencyDistribution(text):\n",
        "    stops = set(stopwords.words(\"english\"))\n",
        "    words = word_tokenize(text) #tokenize text\n",
        "    freqTable = dict()\n",
        "\n",
        "    for word in words: #Iterate through all words\n",
        "        word = word.lower() #data cleaning\n",
        "        if word not in stops: \n",
        "            if word in freqTable:\n",
        "                freqTable[word] += 1 #add one to frequency if word already added\n",
        "            else:\n",
        "                freqTable[word] = 1  #Set the word frequency to 1 if word not already added\n",
        "    return freqTable"
      ],
      "metadata": {
        "id": "i02FyW1ruXQ0"
      },
      "execution_count": 4,
      "outputs": []
    },
    {
      "cell_type": "code",
      "source": [
        "def CalculateSentenceImportance (text, freqTable):\n",
        "    sents = sent_tokenize(text)\n",
        "    sentScores = dict()\n",
        "    \n",
        "    for sent in sents:\n",
        "        for word, freq in freqTable.items():\n",
        "            if word in sent.lower():\n",
        "                if sent in sentScores:\n",
        "                    sentScores[sent] += freq #Add the frequency of a word occuring to the sentence score if it has been added to before\n",
        "                else: \n",
        "                    sentScores[sent] = freq  #Set score of a sentence to the score of the first word occuring in the sentence\n",
        "    return sentScores, sents"
      ],
      "metadata": {
        "id": "JxbT6Zp8uZ28"
      },
      "execution_count": 5,
      "outputs": []
    },
    {
      "cell_type": "code",
      "source": [
        "\n",
        "def CalculateAverageSentenceImportance (sentScores):\n",
        "    sumValues = 0\n",
        "    for sentence in sentScores:\n",
        "        sumValues += sentScores[sentence] #Calculate total sentence values\n",
        "        \n",
        "    return (sumValues / len(sentScores)) #Return average sentence value"
      ],
      "metadata": {
        "id": "X5mcD7BZucDR"
      },
      "execution_count": 6,
      "outputs": []
    },
    {
      "cell_type": "code",
      "source": [
        "\n",
        "def PerformExtractiveSummarisation(sentences, sentScores, average):\n",
        "    summary = \"\"\n",
        "    for sent in sentences:\n",
        "        if (sentScores[sent] > (1.5 * average)): #Check if the sentence has a score greater than 1.5 times the average.\n",
        "            summary += sent + \" \"\n",
        "            \n",
        "    return summary"
      ],
      "metadata": {
        "id": "kJpBER-IuetA"
      },
      "execution_count": 7,
      "outputs": []
    },
    {
      "cell_type": "code",
      "source": [
        "    \n",
        "#Generate a frequency distribution based on previously acquired text\n",
        "FreqTable = GenerateWordFrequencyDistribution(Text)\n",
        "FreqTable\n",
        "\n"
      ],
      "metadata": {
        "colab": {
          "base_uri": "https://localhost:8080/"
        },
        "id": "calA8V9Uj3t9",
        "outputId": "32fbbec7-13d2-458c-9cd8-a3f4a2a7d0af"
      },
      "execution_count": 8,
      "outputs": [
        {
          "output_type": "execute_result",
          "data": {
            "text/plain": [
              "{'products': 1,\n",
              " '‘': 1,\n",
              " 'notably': 2,\n",
              " 'better': 2,\n",
              " '’': 3,\n",
              " 'fresh': 3,\n",
              " 'items': 2,\n",
              " ',': 35,\n",
              " 'data': 5,\n",
              " 'kantar': 4,\n",
              " 'reported': 2,\n",
              " 'bbc': 3,\n",
              " 'showsbritish': 1,\n",
              " 'shoppers': 5,\n",
              " 'switching': 1,\n",
              " 'frozen': 9,\n",
              " 'food': 12,\n",
              " 'try': 2,\n",
              " 'keep': 1,\n",
              " 'spending': 3,\n",
              " 'amid': 2,\n",
              " 'cost': 3,\n",
              " 'living': 2,\n",
              " 'crisis': 1,\n",
              " 'retail': 4,\n",
              " 'suggests.the': 1,\n",
              " 'soaring': 1,\n",
              " 'weekly': 1,\n",
              " 'shop': 2,\n",
              " 'significant': 1,\n",
              " 'factor': 1,\n",
              " 'squeeze': 1,\n",
              " 'uk': 4,\n",
              " 'households': 1,\n",
              " 'price': 3,\n",
              " 'inflation': 3,\n",
              " 'running': 1,\n",
              " '18.2': 2,\n",
              " '%': 9,\n",
              " 'high': 1,\n",
              " 'energy': 1,\n",
              " 'prices': 2,\n",
              " 'shortages': 1,\n",
              " 'salad': 1,\n",
              " 'vegetable': 1,\n",
              " 'bad': 1,\n",
              " 'weather': 1,\n",
              " 'europe.in': 1,\n",
              " 'response': 1,\n",
              " 'many': 2,\n",
              " 'avoid': 1,\n",
              " 'pay': 1,\n",
              " 'higher': 1,\n",
              " 'according': 5,\n",
              " 'survey': 2,\n",
              " 'bbc.shoppers': 1,\n",
              " 'turned': 1,\n",
              " 'particular': 1,\n",
              " '.': 9,\n",
              " 'demand': 1,\n",
              " 'strongest': 1,\n",
              " 'chicken': 1,\n",
              " 'volumes': 3,\n",
              " 'rose': 1,\n",
              " '5.9': 1,\n",
              " '12': 1,\n",
              " 'weeks': 1,\n",
              " '20': 1,\n",
              " 'march': 1,\n",
              " 'research': 1,\n",
              " 'analysts': 1,\n",
              " 'covering': 1,\n",
              " 'great': 1,\n",
              " 'britain': 1,\n",
              " 'sales': 1,\n",
              " 'prepared': 1,\n",
              " 'foods': 1,\n",
              " 'including': 1,\n",
              " 'ready': 1,\n",
              " 'meals': 1,\n",
              " 'pizzas': 1,\n",
              " 'chips': 1,\n",
              " 'increased': 1,\n",
              " '2.6': 1,\n",
              " '.frozen': 1,\n",
              " 'held': 1,\n",
              " 'steady': 1,\n",
              " 'even': 1,\n",
              " 'buying': 5,\n",
              " 'less': 2,\n",
              " 'total': 1,\n",
              " 'grocery': 2,\n",
              " 'fell': 1,\n",
              " '4': 1,\n",
              " 'volume': 1,\n",
              " 'goods': 2,\n",
              " 'bought': 1,\n",
              " 'unchanged': 1,\n",
              " 'period': 2,\n",
              " 'showed': 1,\n",
              " 'report.uk': 1,\n",
              " 'hit': 1,\n",
              " 'year': 1,\n",
              " 'february': 1,\n",
              " 'office': 1,\n",
              " 'national': 1,\n",
              " 'statistics': 1,\n",
              " 'modelling': 1,\n",
              " 'statisticians': 1,\n",
              " 'suggested': 1,\n",
              " 'fastest': 1,\n",
              " 'increase': 1,\n",
              " 'since': 1,\n",
              " 'august': 1,\n",
              " '1977': 1,\n",
              " 'estimated': 1,\n",
              " '21.9': 1,\n",
              " '.in': 1,\n",
              " 'supermarkets': 2,\n",
              " '“': 4,\n",
              " '”': 3,\n",
              " 'moment': 1,\n",
              " 'fraser': 1,\n",
              " 'mckevitt': 1,\n",
              " 'head': 1,\n",
              " 'consumer': 2,\n",
              " 'insight': 1,\n",
              " 'told': 1,\n",
              " 'clearly': 1,\n",
              " 'added.a': 1,\n",
              " 'quarter': 1,\n",
              " 'say': 1,\n",
              " 'separate': 1,\n",
              " '2,000': 1,\n",
              " 'british': 2,\n",
              " 'adults': 1,\n",
              " 'pollster': 1,\n",
              " 'opinium': 1,\n",
              " 'behalf': 1,\n",
              " 'zipzero': 2,\n",
              " 'app': 1,\n",
              " 'collects': 1,\n",
              " 'receipts': 1,\n",
              " 'exchange': 1,\n",
              " 'cash.the': 1,\n",
              " 'poll': 1,\n",
              " 'also': 2,\n",
              " 'found': 1,\n",
              " '30': 1,\n",
              " 'people': 1,\n",
              " 'reduced': 1,\n",
              " 'section': 1,\n",
              " 'save': 1,\n",
              " 'money': 1,\n",
              " '21': 1,\n",
              " 'meat': 1,\n",
              " 'fish.sign': 1,\n",
              " 'business': 2,\n",
              " 'todayget': 1,\n",
              " 'set': 1,\n",
              " 'working': 1,\n",
              " 'day': 1,\n",
              " '–': 1,\n",
              " \"'ll\": 1,\n",
              " 'point': 1,\n",
              " 'news': 1,\n",
              " 'analysis': 1,\n",
              " 'need': 1,\n",
              " 'every': 1,\n",
              " 'morningafter': 1,\n",
              " 'newsletter': 1,\n",
              " 'promotionmohsin': 1,\n",
              " 'rashid': 1,\n",
              " 'chief': 1,\n",
              " 'executive': 1,\n",
              " 'said': 2,\n",
              " ':': 1,\n",
              " 'sky-high': 1,\n",
              " 'invariably': 1,\n",
              " 'shifted': 1,\n",
              " 'habits': 1,\n",
              " 'necessity': 1,\n",
              " 'britons': 2,\n",
              " 'forced': 1,\n",
              " 'drastically': 1,\n",
              " 'change': 1,\n",
              " 'changing': 1,\n",
              " 'too.': 1,\n",
              " 'whether': 1,\n",
              " 'trying': 1,\n",
              " 'cheaper': 1,\n",
              " 'brands': 1,\n",
              " 'turning': 1,\n",
              " 'vegetarian': 1,\n",
              " 'diet': 1,\n",
              " 'stocking': 1,\n",
              " 'consumers': 1,\n",
              " 'finding': 1,\n",
              " 'savvy': 1,\n",
              " 'solutions': 1,\n",
              " 'reduce': 1,\n",
              " 'yet': 1,\n",
              " 'ultimately': 1,\n",
              " 'cost-cutting': 1,\n",
              " 'measures': 1,\n",
              " 'take.': 1,\n",
              " 'specialist': 1,\n",
              " 'iceland': 1,\n",
              " 'performed': 1,\n",
              " 'strongly': 1,\n",
              " 'battle': 1,\n",
              " 'market': 1,\n",
              " 'share': 1,\n",
              " 'increasing': 1,\n",
              " '2.3': 1,\n",
              " '12-week': 1}"
            ]
          },
          "metadata": {},
          "execution_count": 8
        }
      ]
    },
    {
      "cell_type": "code",
      "source": [
        "#Generate sentence values for each sentence \n",
        "sentScores, Sentences = CalculateSentenceImportance(Text, FreqTable)\n",
        "print(sentScores, Sentences)\n",
        "\n"
      ],
      "metadata": {
        "colab": {
          "base_uri": "https://localhost:8080/"
        },
        "id": "sWMMzaM5j8kP",
        "outputId": "a0e8a05b-1a7b-4fab-f885-c0e37f973bd8"
      },
      "execution_count": 9,
      "outputs": [
        {
          "output_type": "stream",
          "name": "stdout",
          "text": [
            "{'Such products doing ‘notably better’ than fresh items, data from Kantar reported by BBC showsBritish shoppers are switching from fresh to frozen food as they try to keep down spending amid the cost of living crisis, retail data suggests.The soaring cost of the weekly shop has been a significant factor in the squeeze on UK households, with food price inflation running at 18.2% amid high energy prices and shortages of salad vegetable because of bad weather in Europe.In response, many shoppers are doing what they can to avoid having to pay higher prices, according to retail and survey data reported by the BBC.Shoppers have turned to frozen food in particular.': 178, 'Demand was strongest for items such as frozen chicken, for which volumes rose by 5.9% in the 12 weeks to 20 March, according to the research from Kantar, analysts covering retail in Great Britain.': 95, 'Sales of frozen prepared foods, including ready meals, pizzas and chips, increased by 2.6%.Frozen food volumes held steady, even as shoppers were buying less.': 107, 'Total grocery volumes fell by 4%, while the volume of frozen goods bought was unchanged, the data for the same period showed, according to the BBC report.UK food price inflation hit 18.2% over the year to February, according to the Office for National Statistics.': 123, 'Modelling by the statisticians suggested that was the fastest food price increase since August 1977, when it was estimated to be 21.9%.In the supermarkets, frozen food was doing “notably better” than fresh at the moment, Fraser McKevitt, the head of retail and consumer insight at Kantar UK, told the BBC.': 129, \"“And some of that is clearly to do with the cost of living,” he added.A quarter of UK shoppers say they are buying more frozen food, according to a separate survey of 2,000 British adults by the pollster Opinium on behalf of Zipzero, an app that collects shoppers’ receipts data in exchange for cash.The poll also found that 30% of people are buying more food from the reduced section of supermarkets to try to save money, and 21% are buying less meat and fish.Sign up to Business TodayGet set for the working day – we'll point you to all the business news and analysis you need every morningafter newsletter promotionMohsin Rashid, Zipzero’s chief executive, said: “Sky-high food inflation has invariably shifted consumer habits.\": 190, 'Out of necessity, Britons have been forced to drastically change where they shop.': 52, 'What they are buying is changing, too.“Whether it be trying cheaper brands, turning to a more vegetarian diet or stocking up on frozen goods, British consumers are finding savvy solutions to reduce their food spending.': 100, 'Yet, ultimately, there are only so many cost-cutting measures that Britons can take.”The frozen food specialist Iceland has also performed strongly in the battle for market share, increasing it to 2.3% of UK grocery spending in the 12-week period, Kantar said.': 119} ['Such products doing ‘notably better’ than fresh items, data from Kantar reported by BBC showsBritish shoppers are switching from fresh to frozen food as they try to keep down spending amid the cost of living crisis, retail data suggests.The soaring cost of the weekly shop has been a significant factor in the squeeze on UK households, with food price inflation running at 18.2% amid high energy prices and shortages of salad vegetable because of bad weather in Europe.In response, many shoppers are doing what they can to avoid having to pay higher prices, according to retail and survey data reported by the BBC.Shoppers have turned to frozen food in particular.', 'Demand was strongest for items such as frozen chicken, for which volumes rose by 5.9% in the 12 weeks to 20 March, according to the research from Kantar, analysts covering retail in Great Britain.', 'Sales of frozen prepared foods, including ready meals, pizzas and chips, increased by 2.6%.Frozen food volumes held steady, even as shoppers were buying less.', 'Total grocery volumes fell by 4%, while the volume of frozen goods bought was unchanged, the data for the same period showed, according to the BBC report.UK food price inflation hit 18.2% over the year to February, according to the Office for National Statistics.', 'Modelling by the statisticians suggested that was the fastest food price increase since August 1977, when it was estimated to be 21.9%.In the supermarkets, frozen food was doing “notably better” than fresh at the moment, Fraser McKevitt, the head of retail and consumer insight at Kantar UK, told the BBC.', \"“And some of that is clearly to do with the cost of living,” he added.A quarter of UK shoppers say they are buying more frozen food, according to a separate survey of 2,000 British adults by the pollster Opinium on behalf of Zipzero, an app that collects shoppers’ receipts data in exchange for cash.The poll also found that 30% of people are buying more food from the reduced section of supermarkets to try to save money, and 21% are buying less meat and fish.Sign up to Business TodayGet set for the working day – we'll point you to all the business news and analysis you need every morningafter newsletter promotionMohsin Rashid, Zipzero’s chief executive, said: “Sky-high food inflation has invariably shifted consumer habits.\", 'Out of necessity, Britons have been forced to drastically change where they shop.', 'What they are buying is changing, too.“Whether it be trying cheaper brands, turning to a more vegetarian diet or stocking up on frozen goods, British consumers are finding savvy solutions to reduce their food spending.', 'Yet, ultimately, there are only so many cost-cutting measures that Britons can take.”The frozen food specialist Iceland has also performed strongly in the battle for market share, increasing it to 2.3% of UK grocery spending in the 12-week period, Kantar said.']\n"
          ]
        }
      ]
    },
    {
      "cell_type": "code",
      "source": [
        "#Calculate the average sentence importance\n",
        "AverageValue = CalculateAverageSentenceImportance(sentScores)\n",
        "AverageValue\n"
      ],
      "metadata": {
        "colab": {
          "base_uri": "https://localhost:8080/"
        },
        "id": "KsSjUUFKj-MN",
        "outputId": "ea50fc72-08f1-42e1-9736-2982307aec30"
      },
      "execution_count": 10,
      "outputs": [
        {
          "output_type": "execute_result",
          "data": {
            "text/plain": [
              "121.44444444444444"
            ]
          },
          "metadata": {},
          "execution_count": 10
        }
      ]
    },
    {
      "cell_type": "code",
      "source": [
        "#determine which sentences to keep and which to remove and then return a summary.\n",
        "Summary = PerformExtractiveSummarisation(Sentences,sentScores, AverageValue)\n",
        "\n",
        "print(Summary)"
      ],
      "metadata": {
        "colab": {
          "base_uri": "https://localhost:8080/"
        },
        "id": "mfpTaJnNkAKB",
        "outputId": "462f3ff0-72a1-4f3b-8383-ff2b39fcd81a"
      },
      "execution_count": 11,
      "outputs": [
        {
          "output_type": "stream",
          "name": "stdout",
          "text": [
            "“And some of that is clearly to do with the cost of living,” he added.A quarter of UK shoppers say they are buying more frozen food, according to a separate survey of 2,000 British adults by the pollster Opinium on behalf of Zipzero, an app that collects shoppers’ receipts data in exchange for cash.The poll also found that 30% of people are buying more food from the reduced section of supermarkets to try to save money, and 21% are buying less meat and fish.Sign up to Business TodayGet set for the working day – we'll point you to all the business news and analysis you need every morningafter newsletter promotionMohsin Rashid, Zipzero’s chief executive, said: “Sky-high food inflation has invariably shifted consumer habits. \n"
          ]
        }
      ]
    }
  ]
}